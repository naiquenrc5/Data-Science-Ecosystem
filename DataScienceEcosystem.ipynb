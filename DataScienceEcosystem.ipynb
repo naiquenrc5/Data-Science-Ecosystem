{
 "cells": [
  {
   "cell_type": "markdown",
   "id": "9a768345-67e8-4feb-804a-d8ae05dbf4bb",
   "metadata": {},
   "source": [
    "# Data Science Tools and Ecosystem"
   ]
  },
  {
   "cell_type": "markdown",
   "id": "81e86077-232d-4823-9e21-35328a74e6e9",
   "metadata": {},
   "source": [
    "#### In this notebook, Data Science Tools and Ecosystem are summarized"
   ]
  },
  {
   "cell_type": "markdown",
   "id": "026206d5-dc4c-4410-b0a1-91ebfbfaa246",
   "metadata": {},
   "source": [
    "#### Some of the commonly used libraries used by Data Scientists include:\n",
    "* Pandas\n",
    "* Anaconda\n",
    "* TensorFlow "
   ]
  },
  {
   "cell_type": "markdown",
   "id": "0812fd98-9746-48c7-8776-a5d31a32f17f",
   "metadata": {},
   "source": [
    "### Below are a few examples of evaluating arithmetic expressions in Python."
   ]
  },
  {
   "cell_type": "code",
   "execution_count": 2,
   "id": "d83deded-14ff-41d6-9294-7c53d4ffbfe9",
   "metadata": {},
   "outputs": [
    {
     "name": "stdout",
     "output_type": "stream",
     "text": [
      "This is a simple arithmetic expression to mutiply then add integers\n"
     ]
    }
   ],
   "source": [
    "(3*4)+5\n",
    "print(\"This is a simple arithmetic expression to mutiply then add integers\")"
   ]
  },
  {
   "cell_type": "code",
   "execution_count": 3,
   "id": "6e19a684-0739-4b95-ba51-60972863ba9e",
   "metadata": {},
   "outputs": [
    {
     "data": {
      "text/plain": [
       "17"
      ]
     },
     "execution_count": 3,
     "metadata": {},
     "output_type": "execute_result"
    }
   ],
   "source": [
    "(3*4)+5"
   ]
  },
  {
   "cell_type": "code",
   "execution_count": 4,
   "id": "09d0bfdb-7dc7-464a-b1fd-48d3ac79a176",
   "metadata": {},
   "outputs": [
    {
     "name": "stdout",
     "output_type": "stream",
     "text": [
      "This will convert 200 minutes to hours by diving by 60\n"
     ]
    },
    {
     "data": {
      "text/plain": [
       "3.3333333333333335"
      ]
     },
     "execution_count": 4,
     "metadata": {},
     "output_type": "execute_result"
    }
   ],
   "source": [
    "print(\"This will convert 200 minutes to hours by diving by 60\")\n",
    "(200/60)"
   ]
  },
  {
   "cell_type": "markdown",
   "id": "da7f2c6f-5e71-4a5d-9346-773b2b0fad3c",
   "metadata": {},
   "source": [
    "**Objectives:**\n",
    "- Libraries used by Data Science\n",
    "- Arithmetic Expressions \n",
    "- List popular languages for Data Science"
   ]
  },
  {
   "cell_type": "markdown",
   "id": "4ce0e990-38b0-4c42-b2aa-c74279eee887",
   "metadata": {},
   "source": [
    "## Author \n",
    "#### Naiquen Rodriguez"
   ]
  },
  {
   "cell_type": "code",
   "execution_count": null,
   "id": "4c714126-26f7-4509-a81b-c99d7d022b8b",
   "metadata": {},
   "outputs": [],
   "source": []
  }
 ],
 "metadata": {
  "kernelspec": {
   "display_name": "Python",
   "language": "python",
   "name": "conda-env-python-py"
  },
  "language_info": {
   "codemirror_mode": {
    "name": "ipython",
    "version": 3
   },
   "file_extension": ".py",
   "mimetype": "text/x-python",
   "name": "python",
   "nbconvert_exporter": "python",
   "pygments_lexer": "ipython3",
   "version": "3.7.12"
  }
 },
 "nbformat": 4,
 "nbformat_minor": 5
}
